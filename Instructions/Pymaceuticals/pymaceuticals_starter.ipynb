{
 "cells": [
  {
   "cell_type": "markdown",
   "metadata": {},
   "source": [
    "## Observations and Insights "
   ]
  },
  {
   "cell_type": "markdown",
   "metadata": {},
   "source": []
  },
  {
   "cell_type": "code",
   "execution_count": 1,
   "metadata": {},
   "outputs": [],
   "source": [
    "# Dependencies and Setup\n",
    "import matplotlib.pyplot as plt\n",
    "import pandas as pd\n",
    "import scipy.stats as st\n",
    "import numpy as np\n",
    "\n",
    "# Study data files\n",
    "mouse_metadata_path = \"data/Mouse_metadata.csv\"\n",
    "study_results_path = \"data/Study_results.csv\""
   ]
  },
  {
   "cell_type": "code",
   "execution_count": 2,
   "metadata": {},
   "outputs": [],
   "source": [
    "# Read the mouse data and the study results\n",
    "mouse_metadata = pd.read_csv(mouse_metadata_path)\n",
    "#mouse_metadata.head()"
   ]
  },
  {
   "cell_type": "code",
   "execution_count": 3,
   "metadata": {
    "scrolled": true
   },
   "outputs": [],
   "source": [
    "study_results = pd.read_csv(study_results_path)\n",
    "#study_results.head()"
   ]
  },
  {
   "cell_type": "code",
   "execution_count": 4,
   "metadata": {},
   "outputs": [
    {
     "data": {
      "text/html": [
       "<div>\n",
       "<style scoped>\n",
       "    .dataframe tbody tr th:only-of-type {\n",
       "        vertical-align: middle;\n",
       "    }\n",
       "\n",
       "    .dataframe tbody tr th {\n",
       "        vertical-align: top;\n",
       "    }\n",
       "\n",
       "    .dataframe thead th {\n",
       "        text-align: right;\n",
       "    }\n",
       "</style>\n",
       "<table border=\"1\" class=\"dataframe\">\n",
       "  <thead>\n",
       "    <tr style=\"text-align: right;\">\n",
       "      <th></th>\n",
       "      <th>Mouse ID</th>\n",
       "      <th>Drug Regimen</th>\n",
       "      <th>Sex</th>\n",
       "      <th>Age_months</th>\n",
       "      <th>Weight (g)</th>\n",
       "      <th>Timepoint</th>\n",
       "      <th>Tumor Volume (mm3)</th>\n",
       "      <th>Metastatic Sites</th>\n",
       "    </tr>\n",
       "  </thead>\n",
       "  <tbody>\n",
       "    <tr>\n",
       "      <th>0</th>\n",
       "      <td>k403</td>\n",
       "      <td>Ramicane</td>\n",
       "      <td>Male</td>\n",
       "      <td>21</td>\n",
       "      <td>16</td>\n",
       "      <td>0</td>\n",
       "      <td>45.000000</td>\n",
       "      <td>0</td>\n",
       "    </tr>\n",
       "    <tr>\n",
       "      <th>1</th>\n",
       "      <td>k403</td>\n",
       "      <td>Ramicane</td>\n",
       "      <td>Male</td>\n",
       "      <td>21</td>\n",
       "      <td>16</td>\n",
       "      <td>5</td>\n",
       "      <td>38.825898</td>\n",
       "      <td>0</td>\n",
       "    </tr>\n",
       "    <tr>\n",
       "      <th>2</th>\n",
       "      <td>k403</td>\n",
       "      <td>Ramicane</td>\n",
       "      <td>Male</td>\n",
       "      <td>21</td>\n",
       "      <td>16</td>\n",
       "      <td>10</td>\n",
       "      <td>35.014271</td>\n",
       "      <td>1</td>\n",
       "    </tr>\n",
       "    <tr>\n",
       "      <th>3</th>\n",
       "      <td>k403</td>\n",
       "      <td>Ramicane</td>\n",
       "      <td>Male</td>\n",
       "      <td>21</td>\n",
       "      <td>16</td>\n",
       "      <td>15</td>\n",
       "      <td>34.223992</td>\n",
       "      <td>1</td>\n",
       "    </tr>\n",
       "    <tr>\n",
       "      <th>4</th>\n",
       "      <td>k403</td>\n",
       "      <td>Ramicane</td>\n",
       "      <td>Male</td>\n",
       "      <td>21</td>\n",
       "      <td>16</td>\n",
       "      <td>20</td>\n",
       "      <td>32.997729</td>\n",
       "      <td>1</td>\n",
       "    </tr>\n",
       "  </tbody>\n",
       "</table>\n",
       "</div>"
      ],
      "text/plain": [
       "  Mouse ID Drug Regimen   Sex  Age_months  Weight (g)  Timepoint  \\\n",
       "0     k403     Ramicane  Male          21          16          0   \n",
       "1     k403     Ramicane  Male          21          16          5   \n",
       "2     k403     Ramicane  Male          21          16         10   \n",
       "3     k403     Ramicane  Male          21          16         15   \n",
       "4     k403     Ramicane  Male          21          16         20   \n",
       "\n",
       "   Tumor Volume (mm3)  Metastatic Sites  \n",
       "0           45.000000                 0  \n",
       "1           38.825898                 0  \n",
       "2           35.014271                 1  \n",
       "3           34.223992                 1  \n",
       "4           32.997729                 1  "
      ]
     },
     "execution_count": 4,
     "metadata": {},
     "output_type": "execute_result"
    }
   ],
   "source": [
    "# Combine the data into a single dataset\n",
    "mouse_merged_df = mouse_metadata.merge(study_results, how = \"outer\", on = \"Mouse ID\")\n",
    "\n",
    "#Check for NaN\n",
    "#mouse_merged_df.isnull().sum()\n",
    "\n",
    "# Display the data table for preview\n",
    "mouse_merged_df.head()"
   ]
  },
  {
   "cell_type": "code",
   "execution_count": 5,
   "metadata": {},
   "outputs": [
    {
     "data": {
      "text/html": [
       "<div>\n",
       "<style scoped>\n",
       "    .dataframe tbody tr th:only-of-type {\n",
       "        vertical-align: middle;\n",
       "    }\n",
       "\n",
       "    .dataframe tbody tr th {\n",
       "        vertical-align: top;\n",
       "    }\n",
       "\n",
       "    .dataframe thead th {\n",
       "        text-align: right;\n",
       "    }\n",
       "</style>\n",
       "<table border=\"1\" class=\"dataframe\">\n",
       "  <thead>\n",
       "    <tr style=\"text-align: right;\">\n",
       "      <th></th>\n",
       "      <th>mouse_id</th>\n",
       "      <th>drug_regimen</th>\n",
       "      <th>sex</th>\n",
       "      <th>age_months</th>\n",
       "      <th>weight</th>\n",
       "      <th>timepoint</th>\n",
       "      <th>tumor_vol</th>\n",
       "      <th>meta_sites</th>\n",
       "    </tr>\n",
       "  </thead>\n",
       "  <tbody>\n",
       "    <tr>\n",
       "      <th>0</th>\n",
       "      <td>k403</td>\n",
       "      <td>Ramicane</td>\n",
       "      <td>Male</td>\n",
       "      <td>21</td>\n",
       "      <td>16</td>\n",
       "      <td>0</td>\n",
       "      <td>45.000000</td>\n",
       "      <td>0</td>\n",
       "    </tr>\n",
       "    <tr>\n",
       "      <th>1</th>\n",
       "      <td>k403</td>\n",
       "      <td>Ramicane</td>\n",
       "      <td>Male</td>\n",
       "      <td>21</td>\n",
       "      <td>16</td>\n",
       "      <td>5</td>\n",
       "      <td>38.825898</td>\n",
       "      <td>0</td>\n",
       "    </tr>\n",
       "    <tr>\n",
       "      <th>2</th>\n",
       "      <td>k403</td>\n",
       "      <td>Ramicane</td>\n",
       "      <td>Male</td>\n",
       "      <td>21</td>\n",
       "      <td>16</td>\n",
       "      <td>10</td>\n",
       "      <td>35.014271</td>\n",
       "      <td>1</td>\n",
       "    </tr>\n",
       "    <tr>\n",
       "      <th>3</th>\n",
       "      <td>k403</td>\n",
       "      <td>Ramicane</td>\n",
       "      <td>Male</td>\n",
       "      <td>21</td>\n",
       "      <td>16</td>\n",
       "      <td>15</td>\n",
       "      <td>34.223992</td>\n",
       "      <td>1</td>\n",
       "    </tr>\n",
       "    <tr>\n",
       "      <th>4</th>\n",
       "      <td>k403</td>\n",
       "      <td>Ramicane</td>\n",
       "      <td>Male</td>\n",
       "      <td>21</td>\n",
       "      <td>16</td>\n",
       "      <td>20</td>\n",
       "      <td>32.997729</td>\n",
       "      <td>1</td>\n",
       "    </tr>\n",
       "    <tr>\n",
       "      <th>...</th>\n",
       "      <td>...</td>\n",
       "      <td>...</td>\n",
       "      <td>...</td>\n",
       "      <td>...</td>\n",
       "      <td>...</td>\n",
       "      <td>...</td>\n",
       "      <td>...</td>\n",
       "      <td>...</td>\n",
       "    </tr>\n",
       "    <tr>\n",
       "      <th>1888</th>\n",
       "      <td>z969</td>\n",
       "      <td>Naftisol</td>\n",
       "      <td>Male</td>\n",
       "      <td>9</td>\n",
       "      <td>30</td>\n",
       "      <td>25</td>\n",
       "      <td>63.145652</td>\n",
       "      <td>2</td>\n",
       "    </tr>\n",
       "    <tr>\n",
       "      <th>1889</th>\n",
       "      <td>z969</td>\n",
       "      <td>Naftisol</td>\n",
       "      <td>Male</td>\n",
       "      <td>9</td>\n",
       "      <td>30</td>\n",
       "      <td>30</td>\n",
       "      <td>65.841013</td>\n",
       "      <td>3</td>\n",
       "    </tr>\n",
       "    <tr>\n",
       "      <th>1890</th>\n",
       "      <td>z969</td>\n",
       "      <td>Naftisol</td>\n",
       "      <td>Male</td>\n",
       "      <td>9</td>\n",
       "      <td>30</td>\n",
       "      <td>35</td>\n",
       "      <td>69.176246</td>\n",
       "      <td>4</td>\n",
       "    </tr>\n",
       "    <tr>\n",
       "      <th>1891</th>\n",
       "      <td>z969</td>\n",
       "      <td>Naftisol</td>\n",
       "      <td>Male</td>\n",
       "      <td>9</td>\n",
       "      <td>30</td>\n",
       "      <td>40</td>\n",
       "      <td>70.314904</td>\n",
       "      <td>4</td>\n",
       "    </tr>\n",
       "    <tr>\n",
       "      <th>1892</th>\n",
       "      <td>z969</td>\n",
       "      <td>Naftisol</td>\n",
       "      <td>Male</td>\n",
       "      <td>9</td>\n",
       "      <td>30</td>\n",
       "      <td>45</td>\n",
       "      <td>73.867845</td>\n",
       "      <td>4</td>\n",
       "    </tr>\n",
       "  </tbody>\n",
       "</table>\n",
       "<p>1893 rows × 8 columns</p>\n",
       "</div>"
      ],
      "text/plain": [
       "     mouse_id drug_regimen   sex  age_months  weight  timepoint  tumor_vol  \\\n",
       "0        k403     Ramicane  Male          21      16          0  45.000000   \n",
       "1        k403     Ramicane  Male          21      16          5  38.825898   \n",
       "2        k403     Ramicane  Male          21      16         10  35.014271   \n",
       "3        k403     Ramicane  Male          21      16         15  34.223992   \n",
       "4        k403     Ramicane  Male          21      16         20  32.997729   \n",
       "...       ...          ...   ...         ...     ...        ...        ...   \n",
       "1888     z969     Naftisol  Male           9      30         25  63.145652   \n",
       "1889     z969     Naftisol  Male           9      30         30  65.841013   \n",
       "1890     z969     Naftisol  Male           9      30         35  69.176246   \n",
       "1891     z969     Naftisol  Male           9      30         40  70.314904   \n",
       "1892     z969     Naftisol  Male           9      30         45  73.867845   \n",
       "\n",
       "      meta_sites  \n",
       "0              0  \n",
       "1              0  \n",
       "2              1  \n",
       "3              1  \n",
       "4              1  \n",
       "...          ...  \n",
       "1888           2  \n",
       "1889           3  \n",
       "1890           4  \n",
       "1891           4  \n",
       "1892           4  \n",
       "\n",
       "[1893 rows x 8 columns]"
      ]
     },
     "execution_count": 5,
     "metadata": {},
     "output_type": "execute_result"
    }
   ],
   "source": [
    "#rename columns for ease of use\n",
    "mouse_merged_df = mouse_merged_df.rename(columns={\"Mouse ID\": \"mouse_id\", \"Drug Regimen\": \"drug_regimen\", \"Sex\" : \"sex\", \n",
    "                                         \"Age_months\" : \"age_months\", \"Weight (g)\" : \"weight\", \"Timepoint\" : \"timepoint\",\n",
    "                                         \"Tumor Volume (mm3)\" : \"tumor_vol\", \"Metastatic Sites\" : \"meta_sites\"})\n",
    "mouse_merged_df"
   ]
  },
  {
   "cell_type": "code",
   "execution_count": 6,
   "metadata": {},
   "outputs": [
    {
     "name": "stdout",
     "output_type": "stream",
     "text": [
      "There are 249 mice in the study.\n"
     ]
    }
   ],
   "source": [
    "# Checking the number of mice.\n",
    "nmice = mouse_merged_df[\"mouse_id\"].nunique()\n",
    "print(f\"There are {nmice} mice in the study.\")"
   ]
  },
  {
   "cell_type": "code",
   "execution_count": 7,
   "metadata": {},
   "outputs": [
    {
     "data": {
      "text/html": [
       "<div>\n",
       "<style scoped>\n",
       "    .dataframe tbody tr th:only-of-type {\n",
       "        vertical-align: middle;\n",
       "    }\n",
       "\n",
       "    .dataframe tbody tr th {\n",
       "        vertical-align: top;\n",
       "    }\n",
       "\n",
       "    .dataframe thead th {\n",
       "        text-align: right;\n",
       "    }\n",
       "</style>\n",
       "<table border=\"1\" class=\"dataframe\">\n",
       "  <thead>\n",
       "    <tr style=\"text-align: right;\">\n",
       "      <th></th>\n",
       "      <th>mouse_id</th>\n",
       "      <th>drug_regimen</th>\n",
       "      <th>sex</th>\n",
       "      <th>age_months</th>\n",
       "      <th>weight</th>\n",
       "      <th>timepoint</th>\n",
       "      <th>tumor_vol</th>\n",
       "      <th>meta_sites</th>\n",
       "    </tr>\n",
       "  </thead>\n",
       "  <tbody>\n",
       "    <tr>\n",
       "      <th>908</th>\n",
       "      <td>g989</td>\n",
       "      <td>Propriva</td>\n",
       "      <td>Female</td>\n",
       "      <td>21</td>\n",
       "      <td>26</td>\n",
       "      <td>0</td>\n",
       "      <td>45.000000</td>\n",
       "      <td>0</td>\n",
       "    </tr>\n",
       "    <tr>\n",
       "      <th>909</th>\n",
       "      <td>g989</td>\n",
       "      <td>Propriva</td>\n",
       "      <td>Female</td>\n",
       "      <td>21</td>\n",
       "      <td>26</td>\n",
       "      <td>0</td>\n",
       "      <td>45.000000</td>\n",
       "      <td>0</td>\n",
       "    </tr>\n",
       "    <tr>\n",
       "      <th>910</th>\n",
       "      <td>g989</td>\n",
       "      <td>Propriva</td>\n",
       "      <td>Female</td>\n",
       "      <td>21</td>\n",
       "      <td>26</td>\n",
       "      <td>5</td>\n",
       "      <td>48.786801</td>\n",
       "      <td>0</td>\n",
       "    </tr>\n",
       "    <tr>\n",
       "      <th>911</th>\n",
       "      <td>g989</td>\n",
       "      <td>Propriva</td>\n",
       "      <td>Female</td>\n",
       "      <td>21</td>\n",
       "      <td>26</td>\n",
       "      <td>5</td>\n",
       "      <td>47.570392</td>\n",
       "      <td>0</td>\n",
       "    </tr>\n",
       "    <tr>\n",
       "      <th>912</th>\n",
       "      <td>g989</td>\n",
       "      <td>Propriva</td>\n",
       "      <td>Female</td>\n",
       "      <td>21</td>\n",
       "      <td>26</td>\n",
       "      <td>10</td>\n",
       "      <td>51.745156</td>\n",
       "      <td>0</td>\n",
       "    </tr>\n",
       "    <tr>\n",
       "      <th>913</th>\n",
       "      <td>g989</td>\n",
       "      <td>Propriva</td>\n",
       "      <td>Female</td>\n",
       "      <td>21</td>\n",
       "      <td>26</td>\n",
       "      <td>10</td>\n",
       "      <td>49.880528</td>\n",
       "      <td>0</td>\n",
       "    </tr>\n",
       "    <tr>\n",
       "      <th>914</th>\n",
       "      <td>g989</td>\n",
       "      <td>Propriva</td>\n",
       "      <td>Female</td>\n",
       "      <td>21</td>\n",
       "      <td>26</td>\n",
       "      <td>15</td>\n",
       "      <td>51.325852</td>\n",
       "      <td>1</td>\n",
       "    </tr>\n",
       "    <tr>\n",
       "      <th>915</th>\n",
       "      <td>g989</td>\n",
       "      <td>Propriva</td>\n",
       "      <td>Female</td>\n",
       "      <td>21</td>\n",
       "      <td>26</td>\n",
       "      <td>15</td>\n",
       "      <td>53.442020</td>\n",
       "      <td>0</td>\n",
       "    </tr>\n",
       "    <tr>\n",
       "      <th>916</th>\n",
       "      <td>g989</td>\n",
       "      <td>Propriva</td>\n",
       "      <td>Female</td>\n",
       "      <td>21</td>\n",
       "      <td>26</td>\n",
       "      <td>20</td>\n",
       "      <td>55.326122</td>\n",
       "      <td>1</td>\n",
       "    </tr>\n",
       "    <tr>\n",
       "      <th>917</th>\n",
       "      <td>g989</td>\n",
       "      <td>Propriva</td>\n",
       "      <td>Female</td>\n",
       "      <td>21</td>\n",
       "      <td>26</td>\n",
       "      <td>20</td>\n",
       "      <td>54.657650</td>\n",
       "      <td>1</td>\n",
       "    </tr>\n",
       "  </tbody>\n",
       "</table>\n",
       "</div>"
      ],
      "text/plain": [
       "    mouse_id drug_regimen     sex  age_months  weight  timepoint  tumor_vol  \\\n",
       "908     g989     Propriva  Female          21      26          0  45.000000   \n",
       "909     g989     Propriva  Female          21      26          0  45.000000   \n",
       "910     g989     Propriva  Female          21      26          5  48.786801   \n",
       "911     g989     Propriva  Female          21      26          5  47.570392   \n",
       "912     g989     Propriva  Female          21      26         10  51.745156   \n",
       "913     g989     Propriva  Female          21      26         10  49.880528   \n",
       "914     g989     Propriva  Female          21      26         15  51.325852   \n",
       "915     g989     Propriva  Female          21      26         15  53.442020   \n",
       "916     g989     Propriva  Female          21      26         20  55.326122   \n",
       "917     g989     Propriva  Female          21      26         20  54.657650   \n",
       "\n",
       "     meta_sites  \n",
       "908           0  \n",
       "909           0  \n",
       "910           0  \n",
       "911           0  \n",
       "912           0  \n",
       "913           0  \n",
       "914           1  \n",
       "915           0  \n",
       "916           1  \n",
       "917           1  "
      ]
     },
     "execution_count": 7,
     "metadata": {},
     "output_type": "execute_result"
    }
   ],
   "source": [
    "#Find mice with duplicate timepoints\n",
    "# Optional: Get all the data for the duplicate mouse ID. \n",
    "duplicate = mouse_merged_df[mouse_merged_df.duplicated([\"mouse_id\", \"timepoint\"], keep = False)] \n",
    "duplicate"
   ]
  },
  {
   "cell_type": "code",
   "execution_count": 8,
   "metadata": {},
   "outputs": [
    {
     "data": {
      "text/html": [
       "<div>\n",
       "<style scoped>\n",
       "    .dataframe tbody tr th:only-of-type {\n",
       "        vertical-align: middle;\n",
       "    }\n",
       "\n",
       "    .dataframe tbody tr th {\n",
       "        vertical-align: top;\n",
       "    }\n",
       "\n",
       "    .dataframe thead th {\n",
       "        text-align: right;\n",
       "    }\n",
       "</style>\n",
       "<table border=\"1\" class=\"dataframe\">\n",
       "  <thead>\n",
       "    <tr style=\"text-align: right;\">\n",
       "      <th></th>\n",
       "      <th>mouse_id</th>\n",
       "      <th>drug_regimen</th>\n",
       "      <th>sex</th>\n",
       "      <th>age_months</th>\n",
       "      <th>weight</th>\n",
       "      <th>timepoint</th>\n",
       "      <th>tumor_vol</th>\n",
       "      <th>meta_sites</th>\n",
       "    </tr>\n",
       "  </thead>\n",
       "  <tbody>\n",
       "    <tr>\n",
       "      <th>0</th>\n",
       "      <td>k403</td>\n",
       "      <td>Ramicane</td>\n",
       "      <td>Male</td>\n",
       "      <td>21</td>\n",
       "      <td>16</td>\n",
       "      <td>0</td>\n",
       "      <td>45.000000</td>\n",
       "      <td>0</td>\n",
       "    </tr>\n",
       "    <tr>\n",
       "      <th>1</th>\n",
       "      <td>k403</td>\n",
       "      <td>Ramicane</td>\n",
       "      <td>Male</td>\n",
       "      <td>21</td>\n",
       "      <td>16</td>\n",
       "      <td>5</td>\n",
       "      <td>38.825898</td>\n",
       "      <td>0</td>\n",
       "    </tr>\n",
       "    <tr>\n",
       "      <th>2</th>\n",
       "      <td>k403</td>\n",
       "      <td>Ramicane</td>\n",
       "      <td>Male</td>\n",
       "      <td>21</td>\n",
       "      <td>16</td>\n",
       "      <td>10</td>\n",
       "      <td>35.014271</td>\n",
       "      <td>1</td>\n",
       "    </tr>\n",
       "    <tr>\n",
       "      <th>3</th>\n",
       "      <td>k403</td>\n",
       "      <td>Ramicane</td>\n",
       "      <td>Male</td>\n",
       "      <td>21</td>\n",
       "      <td>16</td>\n",
       "      <td>15</td>\n",
       "      <td>34.223992</td>\n",
       "      <td>1</td>\n",
       "    </tr>\n",
       "    <tr>\n",
       "      <th>4</th>\n",
       "      <td>k403</td>\n",
       "      <td>Ramicane</td>\n",
       "      <td>Male</td>\n",
       "      <td>21</td>\n",
       "      <td>16</td>\n",
       "      <td>20</td>\n",
       "      <td>32.997729</td>\n",
       "      <td>1</td>\n",
       "    </tr>\n",
       "  </tbody>\n",
       "</table>\n",
       "</div>"
      ],
      "text/plain": [
       "  mouse_id drug_regimen   sex  age_months  weight  timepoint  tumor_vol  \\\n",
       "0     k403     Ramicane  Male          21      16          0  45.000000   \n",
       "1     k403     Ramicane  Male          21      16          5  38.825898   \n",
       "2     k403     Ramicane  Male          21      16         10  35.014271   \n",
       "3     k403     Ramicane  Male          21      16         15  34.223992   \n",
       "4     k403     Ramicane  Male          21      16         20  32.997729   \n",
       "\n",
       "   meta_sites  \n",
       "0           0  \n",
       "1           0  \n",
       "2           1  \n",
       "3           1  \n",
       "4           1  "
      ]
     },
     "execution_count": 8,
     "metadata": {},
     "output_type": "execute_result"
    }
   ],
   "source": [
    "# Create a clean DataFrame by dropping the duplicate mouse by its ID.\n",
    "mouse_cleaned_df = mouse_merged_df.set_index(\"mouse_id\")\n",
    "mouse_cleaned_df = mouse_cleaned_df.drop([\"g989\"])\n",
    "mouse_cleaned_df = mouse_cleaned_df.reset_index()\n",
    "mouse_cleaned_df.head()"
   ]
  },
  {
   "cell_type": "code",
   "execution_count": 9,
   "metadata": {},
   "outputs": [
    {
     "name": "stdout",
     "output_type": "stream",
     "text": [
      "We removed one mouse, leaving a total of 248 mice.\n"
     ]
    }
   ],
   "source": [
    "# Checking the number of mice in the clean DataFrame.\n",
    "nmice2 = mouse_cleaned_df[\"mouse_id\"].nunique()\n",
    "print(f\"We removed one mouse, leaving a total of {nmice2} mice.\")"
   ]
  },
  {
   "cell_type": "markdown",
   "metadata": {},
   "source": [
    "## Summary Statistics"
   ]
  },
  {
   "cell_type": "code",
   "execution_count": 10,
   "metadata": {},
   "outputs": [],
   "source": [
    "# Generate a summary statistics table of mean, median, variance, standard deviation, \n",
    "# and SEM of the tumor volume for each regimen\n",
    "mouse_cleaned_df.head()\n",
    "drug_groups = mouse_cleaned_df.groupby(\"drug_regimen\")\n",
    "#drug_groups"
   ]
  },
  {
   "cell_type": "code",
   "execution_count": 11,
   "metadata": {},
   "outputs": [],
   "source": [
    "# Use groupby and summary statistical methods to calculate the following properties of each drug regimen: \n",
    "# mean, median, variance, standard deviation, and SEM of the tumor volume. \n",
    "tumor_vol_mean = pd.DataFrame(drug_groups[\"tumor_vol\"].mean())\n",
    "tumor_vol_median = pd.DataFrame(drug_groups[\"tumor_vol\"].median())\n",
    "tumor_vol_var = pd.DataFrame(drug_groups[\"tumor_vol\"].var())\n",
    "tumor_vol_std = pd.DataFrame(drug_groups[\"tumor_vol\"].std())\n",
    "tumor_vol_sem = pd.DataFrame(drug_groups[\"tumor_vol\"].sem())"
   ]
  },
  {
   "cell_type": "code",
   "execution_count": 12,
   "metadata": {},
   "outputs": [
    {
     "data": {
      "text/html": [
       "<div>\n",
       "<style scoped>\n",
       "    .dataframe tbody tr th:only-of-type {\n",
       "        vertical-align: middle;\n",
       "    }\n",
       "\n",
       "    .dataframe tbody tr th {\n",
       "        vertical-align: top;\n",
       "    }\n",
       "\n",
       "    .dataframe thead th {\n",
       "        text-align: right;\n",
       "    }\n",
       "</style>\n",
       "<table border=\"1\" class=\"dataframe\">\n",
       "  <thead>\n",
       "    <tr style=\"text-align: right;\">\n",
       "      <th></th>\n",
       "      <th>Mean of Tumor Volume (mm3)</th>\n",
       "      <th>Median of Tumor Volume (mm3)</th>\n",
       "      <th>Variance of Tumor Volume</th>\n",
       "      <th>Standard Deviation of Tumor Volume</th>\n",
       "      <th>Standard Error of the Mean of Tumor Volume</th>\n",
       "    </tr>\n",
       "    <tr>\n",
       "      <th>drug_regimen</th>\n",
       "      <th></th>\n",
       "      <th></th>\n",
       "      <th></th>\n",
       "      <th></th>\n",
       "      <th></th>\n",
       "    </tr>\n",
       "  </thead>\n",
       "  <tbody>\n",
       "    <tr>\n",
       "      <th>Capomulin</th>\n",
       "      <td>40.675741</td>\n",
       "      <td>41.557809</td>\n",
       "      <td>24.947764</td>\n",
       "      <td>4.994774</td>\n",
       "      <td>0.329346</td>\n",
       "    </tr>\n",
       "    <tr>\n",
       "      <th>Ceftamin</th>\n",
       "      <td>52.591172</td>\n",
       "      <td>51.776157</td>\n",
       "      <td>39.290177</td>\n",
       "      <td>6.268188</td>\n",
       "      <td>0.469821</td>\n",
       "    </tr>\n",
       "    <tr>\n",
       "      <th>Infubinol</th>\n",
       "      <td>52.884795</td>\n",
       "      <td>51.820584</td>\n",
       "      <td>43.128684</td>\n",
       "      <td>6.567243</td>\n",
       "      <td>0.492236</td>\n",
       "    </tr>\n",
       "    <tr>\n",
       "      <th>Ketapril</th>\n",
       "      <td>55.235638</td>\n",
       "      <td>53.698743</td>\n",
       "      <td>68.553577</td>\n",
       "      <td>8.279709</td>\n",
       "      <td>0.603860</td>\n",
       "    </tr>\n",
       "    <tr>\n",
       "      <th>Naftisol</th>\n",
       "      <td>54.331565</td>\n",
       "      <td>52.509285</td>\n",
       "      <td>66.173479</td>\n",
       "      <td>8.134708</td>\n",
       "      <td>0.596466</td>\n",
       "    </tr>\n",
       "    <tr>\n",
       "      <th>Placebo</th>\n",
       "      <td>54.033581</td>\n",
       "      <td>52.288934</td>\n",
       "      <td>61.168083</td>\n",
       "      <td>7.821003</td>\n",
       "      <td>0.581331</td>\n",
       "    </tr>\n",
       "    <tr>\n",
       "      <th>Propriva</th>\n",
       "      <td>52.320930</td>\n",
       "      <td>50.446266</td>\n",
       "      <td>43.852013</td>\n",
       "      <td>6.622085</td>\n",
       "      <td>0.544332</td>\n",
       "    </tr>\n",
       "    <tr>\n",
       "      <th>Ramicane</th>\n",
       "      <td>40.216745</td>\n",
       "      <td>40.673236</td>\n",
       "      <td>23.486704</td>\n",
       "      <td>4.846308</td>\n",
       "      <td>0.320955</td>\n",
       "    </tr>\n",
       "    <tr>\n",
       "      <th>Stelasyn</th>\n",
       "      <td>54.233149</td>\n",
       "      <td>52.431737</td>\n",
       "      <td>59.450562</td>\n",
       "      <td>7.710419</td>\n",
       "      <td>0.573111</td>\n",
       "    </tr>\n",
       "    <tr>\n",
       "      <th>Zoniferol</th>\n",
       "      <td>53.236507</td>\n",
       "      <td>51.818479</td>\n",
       "      <td>48.533355</td>\n",
       "      <td>6.966589</td>\n",
       "      <td>0.516398</td>\n",
       "    </tr>\n",
       "  </tbody>\n",
       "</table>\n",
       "</div>"
      ],
      "text/plain": [
       "              Mean of Tumor Volume (mm3)  Median of Tumor Volume (mm3)  \\\n",
       "drug_regimen                                                             \n",
       "Capomulin                      40.675741                     41.557809   \n",
       "Ceftamin                       52.591172                     51.776157   \n",
       "Infubinol                      52.884795                     51.820584   \n",
       "Ketapril                       55.235638                     53.698743   \n",
       "Naftisol                       54.331565                     52.509285   \n",
       "Placebo                        54.033581                     52.288934   \n",
       "Propriva                       52.320930                     50.446266   \n",
       "Ramicane                       40.216745                     40.673236   \n",
       "Stelasyn                       54.233149                     52.431737   \n",
       "Zoniferol                      53.236507                     51.818479   \n",
       "\n",
       "              Variance of Tumor Volume  Standard Deviation of Tumor Volume  \\\n",
       "drug_regimen                                                                 \n",
       "Capomulin                    24.947764                            4.994774   \n",
       "Ceftamin                     39.290177                            6.268188   \n",
       "Infubinol                    43.128684                            6.567243   \n",
       "Ketapril                     68.553577                            8.279709   \n",
       "Naftisol                     66.173479                            8.134708   \n",
       "Placebo                      61.168083                            7.821003   \n",
       "Propriva                     43.852013                            6.622085   \n",
       "Ramicane                     23.486704                            4.846308   \n",
       "Stelasyn                     59.450562                            7.710419   \n",
       "Zoniferol                    48.533355                            6.966589   \n",
       "\n",
       "              Standard Error of the Mean of Tumor Volume  \n",
       "drug_regimen                                              \n",
       "Capomulin                                       0.329346  \n",
       "Ceftamin                                        0.469821  \n",
       "Infubinol                                       0.492236  \n",
       "Ketapril                                        0.603860  \n",
       "Naftisol                                        0.596466  \n",
       "Placebo                                         0.581331  \n",
       "Propriva                                        0.544332  \n",
       "Ramicane                                        0.320955  \n",
       "Stelasyn                                        0.573111  \n",
       "Zoniferol                                       0.516398  "
      ]
     },
     "execution_count": 12,
     "metadata": {},
     "output_type": "execute_result"
    }
   ],
   "source": [
    "# Assemble the resulting series into a single summary dataframe.\n",
    "summary_df = tumor_vol_mean.merge(tumor_vol_median, on = \"drug_regimen\", suffixes = (\"_mean\", \"_median\"))\n",
    "summary_df = summary_df.merge(tumor_vol_var, on = 'drug_regimen')\n",
    "summary_df = summary_df.merge(tumor_vol_std, on = \"drug_regimen\", suffixes = (\"_var\", \"_std_dev\"))\n",
    "summary_df = summary_df.merge(tumor_vol_sem, on = \"drug_regimen\")\n",
    "summary_df = summary_df.rename(columns = {\"tumor_vol_mean\" : \"Mean of Tumor Volume (mm3)\",\n",
    "                                          \"tumor_vol_median\" : \"Median of Tumor Volume (mm3)\",\n",
    "                                          \"tumor_vol_var\" : \"Variance of Tumor Volume\",\n",
    "                                          \"tumor_vol_std_dev\" : \"Standard Deviation of Tumor Volume\",\n",
    "                                          \"tumor_vol\" : \"Standard Error of the Mean of Tumor Volume\"})\n",
    "summary_df"
   ]
  },
  {
   "cell_type": "code",
   "execution_count": 13,
   "metadata": {},
   "outputs": [
    {
     "data": {
      "text/html": [
       "<div>\n",
       "<style scoped>\n",
       "    .dataframe tbody tr th:only-of-type {\n",
       "        vertical-align: middle;\n",
       "    }\n",
       "\n",
       "    .dataframe tbody tr th {\n",
       "        vertical-align: top;\n",
       "    }\n",
       "\n",
       "    .dataframe thead th {\n",
       "        text-align: right;\n",
       "    }\n",
       "</style>\n",
       "<table border=\"1\" class=\"dataframe\">\n",
       "  <thead>\n",
       "    <tr style=\"text-align: right;\">\n",
       "      <th></th>\n",
       "      <th>Mean of Tumor Volume (mm3)</th>\n",
       "      <th>Median of Tumor Volume (mm3)</th>\n",
       "      <th>Variance of Tumor Volume</th>\n",
       "      <th>Standard Deviation of Tumor Volume</th>\n",
       "      <th>Standard Error of the Mean of Tumor Volume</th>\n",
       "    </tr>\n",
       "    <tr>\n",
       "      <th>drug_regimen</th>\n",
       "      <th></th>\n",
       "      <th></th>\n",
       "      <th></th>\n",
       "      <th></th>\n",
       "      <th></th>\n",
       "    </tr>\n",
       "  </thead>\n",
       "  <tbody>\n",
       "    <tr>\n",
       "      <th>Capomulin</th>\n",
       "      <td>40.675741</td>\n",
       "      <td>41.557809</td>\n",
       "      <td>24.947764</td>\n",
       "      <td>4.994774</td>\n",
       "      <td>0.329346</td>\n",
       "    </tr>\n",
       "    <tr>\n",
       "      <th>Ceftamin</th>\n",
       "      <td>52.591172</td>\n",
       "      <td>51.776157</td>\n",
       "      <td>39.290177</td>\n",
       "      <td>6.268188</td>\n",
       "      <td>0.469821</td>\n",
       "    </tr>\n",
       "    <tr>\n",
       "      <th>Infubinol</th>\n",
       "      <td>52.884795</td>\n",
       "      <td>51.820584</td>\n",
       "      <td>43.128684</td>\n",
       "      <td>6.567243</td>\n",
       "      <td>0.492236</td>\n",
       "    </tr>\n",
       "    <tr>\n",
       "      <th>Ketapril</th>\n",
       "      <td>55.235638</td>\n",
       "      <td>53.698743</td>\n",
       "      <td>68.553577</td>\n",
       "      <td>8.279709</td>\n",
       "      <td>0.603860</td>\n",
       "    </tr>\n",
       "    <tr>\n",
       "      <th>Naftisol</th>\n",
       "      <td>54.331565</td>\n",
       "      <td>52.509285</td>\n",
       "      <td>66.173479</td>\n",
       "      <td>8.134708</td>\n",
       "      <td>0.596466</td>\n",
       "    </tr>\n",
       "    <tr>\n",
       "      <th>Placebo</th>\n",
       "      <td>54.033581</td>\n",
       "      <td>52.288934</td>\n",
       "      <td>61.168083</td>\n",
       "      <td>7.821003</td>\n",
       "      <td>0.581331</td>\n",
       "    </tr>\n",
       "    <tr>\n",
       "      <th>Propriva</th>\n",
       "      <td>52.320930</td>\n",
       "      <td>50.446266</td>\n",
       "      <td>43.852013</td>\n",
       "      <td>6.622085</td>\n",
       "      <td>0.544332</td>\n",
       "    </tr>\n",
       "    <tr>\n",
       "      <th>Ramicane</th>\n",
       "      <td>40.216745</td>\n",
       "      <td>40.673236</td>\n",
       "      <td>23.486704</td>\n",
       "      <td>4.846308</td>\n",
       "      <td>0.320955</td>\n",
       "    </tr>\n",
       "    <tr>\n",
       "      <th>Stelasyn</th>\n",
       "      <td>54.233149</td>\n",
       "      <td>52.431737</td>\n",
       "      <td>59.450562</td>\n",
       "      <td>7.710419</td>\n",
       "      <td>0.573111</td>\n",
       "    </tr>\n",
       "    <tr>\n",
       "      <th>Zoniferol</th>\n",
       "      <td>53.236507</td>\n",
       "      <td>51.818479</td>\n",
       "      <td>48.533355</td>\n",
       "      <td>6.966589</td>\n",
       "      <td>0.516398</td>\n",
       "    </tr>\n",
       "  </tbody>\n",
       "</table>\n",
       "</div>"
      ],
      "text/plain": [
       "              Mean of Tumor Volume (mm3)  Median of Tumor Volume (mm3)  \\\n",
       "drug_regimen                                                             \n",
       "Capomulin                      40.675741                     41.557809   \n",
       "Ceftamin                       52.591172                     51.776157   \n",
       "Infubinol                      52.884795                     51.820584   \n",
       "Ketapril                       55.235638                     53.698743   \n",
       "Naftisol                       54.331565                     52.509285   \n",
       "Placebo                        54.033581                     52.288934   \n",
       "Propriva                       52.320930                     50.446266   \n",
       "Ramicane                       40.216745                     40.673236   \n",
       "Stelasyn                       54.233149                     52.431737   \n",
       "Zoniferol                      53.236507                     51.818479   \n",
       "\n",
       "              Variance of Tumor Volume  Standard Deviation of Tumor Volume  \\\n",
       "drug_regimen                                                                 \n",
       "Capomulin                    24.947764                            4.994774   \n",
       "Ceftamin                     39.290177                            6.268188   \n",
       "Infubinol                    43.128684                            6.567243   \n",
       "Ketapril                     68.553577                            8.279709   \n",
       "Naftisol                     66.173479                            8.134708   \n",
       "Placebo                      61.168083                            7.821003   \n",
       "Propriva                     43.852013                            6.622085   \n",
       "Ramicane                     23.486704                            4.846308   \n",
       "Stelasyn                     59.450562                            7.710419   \n",
       "Zoniferol                    48.533355                            6.966589   \n",
       "\n",
       "              Standard Error of the Mean of Tumor Volume  \n",
       "drug_regimen                                              \n",
       "Capomulin                                       0.329346  \n",
       "Ceftamin                                        0.469821  \n",
       "Infubinol                                       0.492236  \n",
       "Ketapril                                        0.603860  \n",
       "Naftisol                                        0.596466  \n",
       "Placebo                                         0.581331  \n",
       "Propriva                                        0.544332  \n",
       "Ramicane                                        0.320955  \n",
       "Stelasyn                                        0.573111  \n",
       "Zoniferol                                       0.516398  "
      ]
     },
     "execution_count": 13,
     "metadata": {},
     "output_type": "execute_result"
    }
   ],
   "source": [
    "# Generate a summary statistics table of mean, median, variance, standard deviation, and SEM of the \n",
    "# tumor volume for each regimen\n",
    "# Using the aggregation method, produce the same summary statistics in a single line\n",
    "summary_agg_df = mouse_cleaned_df.groupby(mouse_cleaned_df[\"drug_regimen\"]).tumor_vol.agg([\"mean\", \"median\", \"var\", \"std\", \n",
    "                                               \"sem\"]) \n",
    "summary_agg_df = summary_agg_df.rename(columns = {\"mean\" : \"Mean of Tumor Volume (mm3)\", \n",
    "                                                  \"median\" : \"Median of Tumor Volume (mm3)\", \n",
    "                                                  \"var\" : \"Variance of Tumor Volume\", \n",
    "                                                  \"std\" : \"Standard Deviation of Tumor Volume\",\n",
    "                                                  \"sem\" : \"Standard Error of the Mean of Tumor Volume\"})\n",
    "summary_agg_df"
   ]
  },
  {
   "cell_type": "markdown",
   "metadata": {},
   "source": [
    "## Bar and Pie Charts"
   ]
  },
  {
   "cell_type": "code",
   "execution_count": 14,
   "metadata": {},
   "outputs": [
    {
     "data": {
      "image/png": "[encoded data removed]",
      "text/plain": [
       "<Figure size 576x360 with 1 Axes>"
      ]
     },
     "metadata": {
      "needs_background": "light"
     },
     "output_type": "display_data"
    }
   ],
   "source": [
    "# Generate a bar plot showing the total number of measurements taken on each drug regimen using pandas.\n",
    "measurements_df = pd.DataFrame(drug_groups[\"timepoint\"].count().reset_index())\n",
    "ax = measurements_df.plot.bar(x='drug_regimen', y='timepoint', color = \"blue\", rot=90, figsize = (8,5))\n",
    "plt.xlabel(\"Drug Regimen\")\n",
    "plt.ylabel(\"Number of Measurements\")\n",
    "plt.title(\"Number of Measurements Per Drug\")\n",
    "plt.tight_layout()\n",
    "plt.show()"
   ]
  },
  {
   "cell_type": "code",
   "execution_count": 15,
   "metadata": {},
   "outputs": [
    {
     "data": {
      "image/png": "[encoded data removed]",
      "text/plain": [
       "<Figure size 576x360 with 1 Axes>"
      ]
     },
     "metadata": {
      "needs_background": "light"
     },
     "output_type": "display_data"
    }
   ],
   "source": [
    "# Generate a bar plot showing the total number of measurements taken on each drug regimen using pyplot.\n",
    "measurements_df = pd.DataFrame(drug_groups[\"timepoint\"].count().reset_index())\n",
    "x_axis = np.arange(len(measurements_df))\n",
    "tick_locations = [value for value in x_axis]\n",
    "timepts = list(measurements_df[\"timepoint\"])\n",
    "#print(timepts)\n",
    "plt.figure(figsize=(8,5))\n",
    "plt.bar(x_axis, timepts, color='b', alpha=0.75, align=\"center\")\n",
    "plt.xticks(tick_locations, measurements_df[\"drug_regimen\"], rotation=\"vertical\")\n",
    "plt.xlim(-1, len(x_axis))\n",
    "plt.ylim(0, max(measurements_df[\"timepoint\"])+10)\n",
    "plt.title(\"Number of Measurements Per Drug\")\n",
    "plt.xlabel(\"Drug\")\n",
    "plt.ylabel(\"Number of Measurements\")\n",
    "plt.tight_layout()\n",
    "plt.show()"
   ]
  },
  {
   "cell_type": "code",
   "execution_count": 16,
   "metadata": {},
   "outputs": [
    {
     "data": {
      "image/png": "[encoded data removed]",
      "text/plain": [
       "<Figure size 432x432 with 1 Axes>"
      ]
     },
     "metadata": {},
     "output_type": "display_data"
    }
   ],
   "source": [
    "# Generate a pie plot showing the distribution of female versus male mice using pandas\n",
    "sex_df = pd.DataFrame(mouse_cleaned_df.groupby(\"sex\").count())\n",
    "sex_df\n",
    "colors = [\"blue\", \"darkorange\"]\n",
    "plot = sex_df.plot.pie(y='mouse_id', figsize=(6, 6), colors = colors, autopct = \"%1.1f%%\", startangle = 320)\n",
    "plt.title(\"Study Subjects by Sex\")\n",
    "plt.axis(\"equal\")\n",
    "plt.tight_layout()\n",
    "plt.show()"
   ]
  },
  {
   "cell_type": "code",
   "execution_count": 17,
   "metadata": {},
   "outputs": [
    {
     "data": {
      "image/png": "[encoded data removed]",
      "text/plain": [
       "<Figure size 432x432 with 1 Axes>"
      ]
     },
     "metadata": {},
     "output_type": "display_data"
    }
   ],
   "source": [
    "# Generate a pie plot showing the distribution of female versus male mice using pyplot\n",
    "sex_df = pd.DataFrame(mouse_cleaned_df.groupby(\"sex\").count())\n",
    "sex_df = sex_df.reset_index()\n",
    "sex_df\n",
    "sizes = sex_df.loc[:, \"mouse_id\"]\n",
    "#print(sizes)\n",
    "labels = [\"Female\", \"Male\"]\n",
    "colors = [\"blue\", \"darkorange\"]\n",
    "plt.figure(figsize=(6,6))\n",
    "plt.pie(sizes, labels = labels, colors = colors, startangle = 320, autopct = \"%1.1f%%\")\n",
    "plt.axis(\"equal\")\n",
    "plt.title(\"Study Subjects by Sex\")\n",
    "plt.legend(loc = \"best\")\n",
    "plt.tight_layout()\n",
    "plt.show()"
   ]
  },
  {
   "cell_type": "markdown",
   "metadata": {},
   "source": [
    "## Quartiles, Outliers and Boxplots"
   ]
  },
  {
   "cell_type": "code",
   "execution_count": 18,
   "metadata": {},
   "outputs": [
    {
     "data": {
      "text/html": [
       "<div>\n",
       "<style scoped>\n",
       "    .dataframe tbody tr th:only-of-type {\n",
       "        vertical-align: middle;\n",
       "    }\n",
       "\n",
       "    .dataframe tbody tr th {\n",
       "        vertical-align: top;\n",
       "    }\n",
       "\n",
       "    .dataframe thead th {\n",
       "        text-align: right;\n",
       "    }\n",
       "</style>\n",
       "<table border=\"1\" class=\"dataframe\">\n",
       "  <thead>\n",
       "    <tr style=\"text-align: right;\">\n",
       "      <th></th>\n",
       "      <th>drug_regimen</th>\n",
       "      <th>mouse_id</th>\n",
       "      <th>sex</th>\n",
       "      <th>age_months</th>\n",
       "      <th>weight</th>\n",
       "      <th>timepoint</th>\n",
       "      <th>tumor_vol</th>\n",
       "      <th>meta_sites</th>\n",
       "    </tr>\n",
       "  </thead>\n",
       "  <tbody>\n",
       "    <tr>\n",
       "      <th>0</th>\n",
       "      <td>Capomulin</td>\n",
       "      <td>b128</td>\n",
       "      <td>Female</td>\n",
       "      <td>9</td>\n",
       "      <td>22</td>\n",
       "      <td>45</td>\n",
       "      <td>45.651331</td>\n",
       "      <td>2</td>\n",
       "    </tr>\n",
       "    <tr>\n",
       "      <th>1</th>\n",
       "      <td>Capomulin</td>\n",
       "      <td>b742</td>\n",
       "      <td>Male</td>\n",
       "      <td>7</td>\n",
       "      <td>21</td>\n",
       "      <td>45</td>\n",
       "      <td>45.000000</td>\n",
       "      <td>0</td>\n",
       "    </tr>\n",
       "    <tr>\n",
       "      <th>2</th>\n",
       "      <td>Capomulin</td>\n",
       "      <td>f966</td>\n",
       "      <td>Male</td>\n",
       "      <td>16</td>\n",
       "      <td>17</td>\n",
       "      <td>20</td>\n",
       "      <td>45.000000</td>\n",
       "      <td>0</td>\n",
       "    </tr>\n",
       "    <tr>\n",
       "      <th>3</th>\n",
       "      <td>Capomulin</td>\n",
       "      <td>g288</td>\n",
       "      <td>Male</td>\n",
       "      <td>3</td>\n",
       "      <td>19</td>\n",
       "      <td>45</td>\n",
       "      <td>46.304003</td>\n",
       "      <td>1</td>\n",
       "    </tr>\n",
       "    <tr>\n",
       "      <th>4</th>\n",
       "      <td>Capomulin</td>\n",
       "      <td>g316</td>\n",
       "      <td>Female</td>\n",
       "      <td>22</td>\n",
       "      <td>22</td>\n",
       "      <td>45</td>\n",
       "      <td>46.809225</td>\n",
       "      <td>2</td>\n",
       "    </tr>\n",
       "  </tbody>\n",
       "</table>\n",
       "</div>"
      ],
      "text/plain": [
       "  drug_regimen mouse_id     sex  age_months  weight  timepoint  tumor_vol  \\\n",
       "0    Capomulin     b128  Female           9      22         45  45.651331   \n",
       "1    Capomulin     b742    Male           7      21         45  45.000000   \n",
       "2    Capomulin     f966    Male          16      17         20  45.000000   \n",
       "3    Capomulin     g288    Male           3      19         45  46.304003   \n",
       "4    Capomulin     g316  Female          22      22         45  46.809225   \n",
       "\n",
       "   meta_sites  \n",
       "0           2  \n",
       "1           0  \n",
       "2           0  \n",
       "3           1  \n",
       "4           2  "
      ]
     },
     "execution_count": 18,
     "metadata": {},
     "output_type": "execute_result"
    }
   ],
   "source": [
    "# Calculate the final tumor volume of each mouse across four of the treatment regimens:  \n",
    "# Capomulin, Ramicane, Infubinol, and Ceftamin\n",
    "\n",
    "tumor_data_df = pd.DataFrame(mouse_cleaned_df.groupby([\"drug_regimen\", \"mouse_id\"]).max())\n",
    "tumor_data_df = tumor_data_df.reset_index()\n",
    "tumor_data_df = tumor_data_df.loc[(tumor_data_df['drug_regimen'] == \"Capomulin\") | \n",
    "                                  (tumor_data_df['drug_regimen'] == \"Ceftamin\") |\n",
    "                                  (tumor_data_df['drug_regimen'] == \"Infubinol\") | \n",
    "                                  (tumor_data_df['drug_regimen'] == \"Ramicane\")]\n",
    "tumor_data_df.head()"
   ]
  },
  {
   "cell_type": "code",
   "execution_count": 19,
   "metadata": {},
   "outputs": [
    {
     "data": {
      "text/html": [
       "<div>\n",
       "<style scoped>\n",
       "    .dataframe tbody tr th:only-of-type {\n",
       "        vertical-align: middle;\n",
       "    }\n",
       "\n",
       "    .dataframe tbody tr th {\n",
       "        vertical-align: top;\n",
       "    }\n",
       "\n",
       "    .dataframe thead th {\n",
       "        text-align: right;\n",
       "    }\n",
       "</style>\n",
       "<table border=\"1\" class=\"dataframe\">\n",
       "  <thead>\n",
       "    <tr style=\"text-align: right;\">\n",
       "      <th></th>\n",
       "      <th>drug_regimen</th>\n",
       "      <th>mouse_id</th>\n",
       "      <th>sex</th>\n",
       "      <th>age_months</th>\n",
       "      <th>weight</th>\n",
       "      <th>timepoint</th>\n",
       "      <th>tumor_vol</th>\n",
       "      <th>meta_sites</th>\n",
       "    </tr>\n",
       "  </thead>\n",
       "  <tbody>\n",
       "    <tr>\n",
       "      <th>0</th>\n",
       "      <td>Capomulin</td>\n",
       "      <td>b128</td>\n",
       "      <td>Female</td>\n",
       "      <td>9</td>\n",
       "      <td>22</td>\n",
       "      <td>45</td>\n",
       "      <td>38.982878</td>\n",
       "      <td>2</td>\n",
       "    </tr>\n",
       "    <tr>\n",
       "      <th>1</th>\n",
       "      <td>Capomulin</td>\n",
       "      <td>b742</td>\n",
       "      <td>Male</td>\n",
       "      <td>7</td>\n",
       "      <td>21</td>\n",
       "      <td>45</td>\n",
       "      <td>38.939633</td>\n",
       "      <td>0</td>\n",
       "    </tr>\n",
       "    <tr>\n",
       "      <th>2</th>\n",
       "      <td>Capomulin</td>\n",
       "      <td>f966</td>\n",
       "      <td>Male</td>\n",
       "      <td>16</td>\n",
       "      <td>17</td>\n",
       "      <td>20</td>\n",
       "      <td>30.485985</td>\n",
       "      <td>0</td>\n",
       "    </tr>\n",
       "    <tr>\n",
       "      <th>3</th>\n",
       "      <td>Capomulin</td>\n",
       "      <td>g288</td>\n",
       "      <td>Male</td>\n",
       "      <td>3</td>\n",
       "      <td>19</td>\n",
       "      <td>45</td>\n",
       "      <td>37.074024</td>\n",
       "      <td>1</td>\n",
       "    </tr>\n",
       "    <tr>\n",
       "      <th>4</th>\n",
       "      <td>Capomulin</td>\n",
       "      <td>g316</td>\n",
       "      <td>Female</td>\n",
       "      <td>22</td>\n",
       "      <td>22</td>\n",
       "      <td>45</td>\n",
       "      <td>40.159220</td>\n",
       "      <td>2</td>\n",
       "    </tr>\n",
       "  </tbody>\n",
       "</table>\n",
       "</div>"
      ],
      "text/plain": [
       "  drug_regimen mouse_id     sex  age_months  weight  timepoint  tumor_vol  \\\n",
       "0    Capomulin     b128  Female           9      22         45  38.982878   \n",
       "1    Capomulin     b742    Male           7      21         45  38.939633   \n",
       "2    Capomulin     f966    Male          16      17         20  30.485985   \n",
       "3    Capomulin     g288    Male           3      19         45  37.074024   \n",
       "4    Capomulin     g316  Female          22      22         45  40.159220   \n",
       "\n",
       "   meta_sites  \n",
       "0           2  \n",
       "1           0  \n",
       "2           0  \n",
       "3           1  \n",
       "4           2  "
      ]
     },
     "execution_count": 19,
     "metadata": {},
     "output_type": "execute_result"
    }
   ],
   "source": [
    "# Merge this group df with the original dataframe to get the tumor volume at the last timepoint\n",
    "tumor_volume_df = pd.merge(tumor_data_df, mouse_cleaned_df, how=\"inner\", on = [\"mouse_id\", \"timepoint\"])\n",
    "tumor_volume_df = tumor_volume_df[[\"drug_regimen_x\", \"mouse_id\", \"sex_x\", \"age_months_x\", \"weight_y\", \"timepoint\", \n",
    "                                  \"tumor_vol_y\", \"meta_sites_y\"]]\n",
    "tumor_volume_df = tumor_volume_df.rename(columns = {\"drug_regimen_x\" : \"drug_regimen\",\n",
    "                                          \"sex_x\" : \"sex\",\n",
    "                                          \"age_months_x\" : \"age_months\",\n",
    "                                          \"weight_y\" : \"weight\",\n",
    "                                          \"tumor_vol_y\" : \"tumor_vol\",\n",
    "                                          \"meta_sites_y\" : \"meta_sites\"})\n",
    "tumor_volume_df.head()"
   ]
  },
  {
   "cell_type": "code",
   "execution_count": 20,
   "metadata": {},
   "outputs": [],
   "source": [
    "# Calculate the IQR and quantitatively determine if there are any potential outliers. \n",
    "drug_regimen = tumor_volume_df.groupby(\"drug_regimen\")\n",
    "capomulin_df = pd.DataFrame(drug_regimen.get_group(\"Capomulin\"))\n",
    "#capomulin_df.head()\n",
    "cap_tumor_vol = list(capomulin_df[\"tumor_vol\"])\n",
    "cap_tumor_vol.sort()\n",
    "#print(cap_tumor_vol)"
   ]
  },
  {
   "cell_type": "code",
   "execution_count": 21,
   "metadata": {},
   "outputs": [
    {
     "name": "stdout",
     "output_type": "stream",
     "text": [
      "Capomulin Data:\n",
      "The lower quartile is 32.37735684.\n",
      "The mean is 36.6675677192.\n",
      "The upper quartile is 40.1592203.\n",
      "The IQR is 7.781863460000004.\n",
      "The lower bound is 20.70456164999999 and the upper bound is 51.83201549.\n",
      "A search for outliers produced 0.\n"
     ]
    }
   ],
   "source": [
    "capomulin_mean = capomulin_df[\"tumor_vol\"].mean()\n",
    "capomulin_lower = capomulin_df[\"tumor_vol\"].quantile(q=0.25)\n",
    "capomulin_upper = capomulin_df[\"tumor_vol\"].quantile(q=0.75)\n",
    "capomulin_iqr = capomulin_upper - capomulin_lower\n",
    "cap_lower_b = capomulin_lower - (capomulin_iqr * 1.5)\n",
    "cap_upper_b = (capomulin_iqr * 1.5) + capomulin_upper\n",
    "cap_outlier = capomulin_df.loc[(capomulin_df[\"tumor_vol\"] > cap_upper_b) | (capomulin_df[\"tumor_vol\"] < cap_lower_b)]\n",
    "print(\"Capomulin Data:\")\n",
    "print(f\"The lower quartile is {capomulin_lower}.\")\n",
    "print(f\"The mean is {capomulin_mean}.\")\n",
    "print(f\"The upper quartile is {capomulin_upper}.\")\n",
    "print(f\"The IQR is {capomulin_iqr}.\")\n",
    "print(f\"The lower bound is {cap_lower_b} and the upper bound is {cap_upper_b}.\")\n",
    "print(f\"A search for outliers produced {len(cap_outlier)}.\")"
   ]
  },
  {
   "cell_type": "code",
   "execution_count": 22,
   "metadata": {},
   "outputs": [],
   "source": [
    "ceftamin_df = pd.DataFrame(drug_regimen.get_group(\"Ceftamin\"))\n",
    "#ceftamin_df.head()\n",
    "cef_tumor_vol = list(ceftamin_df[\"tumor_vol\"])\n",
    "cef_tumor_vol.sort()\n",
    "#print(cef_tumor_vol)"
   ]
  },
  {
   "cell_type": "code",
   "execution_count": 23,
   "metadata": {},
   "outputs": [
    {
     "name": "stdout",
     "output_type": "stream",
     "text": [
      "Ceftamin Data:\n",
      "The lower quartile is 48.72207785.\n",
      "The mean is 57.7539768252.\n",
      "The upper quartile is 64.29983003.\n",
      "The IQR is 15.577752179999997.\n",
      "The lower bound is 25.355449580000002 and the upper bound is 87.66645829999999.\n",
      "A search for outliers produced 0.\n"
     ]
    }
   ],
   "source": [
    "ceftamin_mean = ceftamin_df[\"tumor_vol\"].mean()\n",
    "ceftamin_lower = ceftamin_df[\"tumor_vol\"].quantile(q=0.25)\n",
    "ceftamin_upper = ceftamin_df[\"tumor_vol\"].quantile(q=0.75)\n",
    "ceftamin_iqr = ceftamin_upper - ceftamin_lower\n",
    "cef_lower_b = ceftamin_lower - (ceftamin_iqr * 1.5)\n",
    "cef_upper_b = (ceftamin_iqr * 1.5) + ceftamin_upper\n",
    "cef_outlier = ceftamin_df.loc[(ceftamin_df[\"tumor_vol\"] > cef_upper_b) | (ceftamin_df[\"tumor_vol\"] < cef_lower_b)]\n",
    "print(\"Ceftamin Data:\")\n",
    "print(f\"The lower quartile is {ceftamin_lower}.\")\n",
    "print(f\"The mean is {ceftamin_mean}.\")\n",
    "print(f\"The upper quartile is {ceftamin_upper}.\")\n",
    "print(f\"The IQR is {ceftamin_iqr}.\")\n",
    "print(f\"The lower bound is {cef_lower_b} and the upper bound is {cef_upper_b}.\")\n",
    "print(f\"A search for outliers produced {len(cef_outlier)}.\")"
   ]
  },
  {
   "cell_type": "code",
   "execution_count": 24,
   "metadata": {},
   "outputs": [],
   "source": [
    "infubinol_df = pd.DataFrame(drug_regimen.get_group(\"Infubinol\"))\n",
    "#infubinol_df.head()\n",
    "inf_tumor_vol = list(infubinol_df[\"tumor_vol\"])\n",
    "inf_tumor_vol.sort()\n",
    "#print(inf_tumor_vol)"
   ]
  },
  {
   "cell_type": "code",
   "execution_count": 25,
   "metadata": {},
   "outputs": [
    {
     "name": "stdout",
     "output_type": "stream",
     "text": [
      "Infubinol Data:\n",
      "The lower quartile is 54.04860769.\n",
      "The mean is 58.1782457852.\n",
      "The upper quartile is 65.52574285.\n",
      "The IQR is 11.477135160000003.\n",
      "The lower bound is 36.83290494999999 and the upper bound is 82.74144559000001.\n",
      "A search for outliers produced 1.\n"
     ]
    }
   ],
   "source": [
    "infubinol_mean = infubinol_df[\"tumor_vol\"].mean()\n",
    "infubinol_lower = infubinol_df[\"tumor_vol\"].quantile(q=0.25)\n",
    "infubinol_upper = infubinol_df[\"tumor_vol\"].quantile(q=0.75)\n",
    "infubinol_iqr = infubinol_upper - infubinol_lower\n",
    "inf_lower_b = infubinol_lower - (infubinol_iqr * 1.5)\n",
    "inf_upper_b = (infubinol_iqr * 1.5) + infubinol_upper\n",
    "inf_outlier = infubinol_df.loc[(infubinol_df[\"tumor_vol\"] > inf_upper_b) | (infubinol_df[\"tumor_vol\"] < inf_lower_b)]\n",
    "print(\"Infubinol Data:\")\n",
    "print(f\"The lower quartile is {infubinol_lower}.\")\n",
    "print(f\"The mean is {infubinol_mean}.\")\n",
    "print(f\"The upper quartile is {infubinol_upper}.\")\n",
    "print(f\"The IQR is {infubinol_iqr}.\")\n",
    "print(f\"The lower bound is {inf_lower_b} and the upper bound is {inf_upper_b}.\")\n",
    "print(f\"A search for outliers produced {len(inf_outlier)}.\")"
   ]
  },
  {
   "cell_type": "code",
   "execution_count": 26,
   "metadata": {},
   "outputs": [],
   "source": [
    "ramicane_df = pd.DataFrame(drug_regimen.get_group(\"Ramicane\"))\n",
    "#ramicane_df.head()\n",
    "ram_tumor_vol = list(ramicane_df[\"tumor_vol\"])\n",
    "ram_tumor_vol.sort()\n",
    "#print(ram_tumor_vol)"
   ]
  },
  {
   "cell_type": "code",
   "execution_count": 27,
   "metadata": {},
   "outputs": [
    {
     "name": "stdout",
     "output_type": "stream",
     "text": [
      "Ramicane Data:\n",
      "The lower quartile is 31.56046955.\n",
      "The mean is 36.1913904284.\n",
      "The upper quartile is 40.65900627.\n",
      "The IQR is 9.098536719999998.\n",
      "The lower bound is 17.912664470000003 and the upper bound is 54.30681135.\n",
      "A search for outliers produced 0.\n"
     ]
    }
   ],
   "source": [
    "ramicane_mean = ramicane_df[\"tumor_vol\"].mean()\n",
    "ramicane_lower = ramicane_df[\"tumor_vol\"].quantile(q=0.25)\n",
    "ramicane_upper = ramicane_df[\"tumor_vol\"].quantile(q=0.75)\n",
    "ramicane_iqr = ramicane_upper - ramicane_lower\n",
    "ram_lower_b = ramicane_lower - (ramicane_iqr * 1.5)\n",
    "ram_upper_b = (ramicane_iqr * 1.5) + ramicane_upper\n",
    "ram_outlier = ramicane_df.loc[(ramicane_df[\"tumor_vol\"] > ram_upper_b) | (ramicane_df[\"tumor_vol\"] < ram_lower_b)]\n",
    "print(\"Ramicane Data:\")\n",
    "print(f\"The lower quartile is {ramicane_lower}.\")\n",
    "print(f\"The mean is {ramicane_mean}.\")\n",
    "print(f\"The upper quartile is {ramicane_upper}.\")\n",
    "print(f\"The IQR is {ramicane_iqr}.\")\n",
    "print(f\"The lower bound is {ram_lower_b} and the upper bound is {ram_upper_b}.\")\n",
    "print(f\"A search for outliers produced {len(ram_outlier)}.\")"
   ]
  },
  {
   "cell_type": "code",
   "execution_count": 28,
   "metadata": {},
   "outputs": [
    {
     "name": "stdout",
     "output_type": "stream",
     "text": [
      "['Capomulin', 'Ceftamin', 'Infubinol', 'Ramicane']\n"
     ]
    }
   ],
   "source": [
    "# Put treatments into a list\n",
    "drug_list = list((tumor_volume_df[\"drug_regimen\"]).unique())\n",
    "print(drug_list)"
   ]
  },
  {
   "cell_type": "code",
   "execution_count": 29,
   "metadata": {},
   "outputs": [],
   "source": [
    "tumor_comparison = list(zip(cap_tumor_vol, cef_tumor_vol, inf_tumor_vol, ram_tumor_vol))\n",
    "#print(tumor_comparison)"
   ]
  },
  {
   "cell_type": "code",
   "execution_count": 30,
   "metadata": {},
   "outputs": [
    {
     "data": {
      "text/html": [
       "<div>\n",
       "<style scoped>\n",
       "    .dataframe tbody tr th:only-of-type {\n",
       "        vertical-align: middle;\n",
       "    }\n",
       "\n",
       "    .dataframe tbody tr th {\n",
       "        vertical-align: top;\n",
       "    }\n",
       "\n",
       "    .dataframe thead th {\n",
       "        text-align: right;\n",
       "    }\n",
       "</style>\n",
       "<table border=\"1\" class=\"dataframe\">\n",
       "  <thead>\n",
       "    <tr style=\"text-align: right;\">\n",
       "      <th></th>\n",
       "      <th>Capomulin</th>\n",
       "      <th>Ceftamin</th>\n",
       "      <th>Infubinol</th>\n",
       "      <th>Ramicane</th>\n",
       "    </tr>\n",
       "  </thead>\n",
       "  <tbody>\n",
       "    <tr>\n",
       "      <th>0</th>\n",
       "      <td>23.343598</td>\n",
       "      <td>45.000000</td>\n",
       "      <td>36.321346</td>\n",
       "      <td>22.050126</td>\n",
       "    </tr>\n",
       "    <tr>\n",
       "      <th>1</th>\n",
       "      <td>28.430964</td>\n",
       "      <td>45.000000</td>\n",
       "      <td>45.699331</td>\n",
       "      <td>29.128472</td>\n",
       "    </tr>\n",
       "    <tr>\n",
       "      <th>2</th>\n",
       "      <td>28.484033</td>\n",
       "      <td>45.000000</td>\n",
       "      <td>46.250112</td>\n",
       "      <td>30.276232</td>\n",
       "    </tr>\n",
       "    <tr>\n",
       "      <th>3</th>\n",
       "      <td>30.485985</td>\n",
       "      <td>45.000000</td>\n",
       "      <td>47.010364</td>\n",
       "      <td>30.564625</td>\n",
       "    </tr>\n",
       "    <tr>\n",
       "      <th>4</th>\n",
       "      <td>31.023923</td>\n",
       "      <td>46.784535</td>\n",
       "      <td>50.005138</td>\n",
       "      <td>30.638696</td>\n",
       "    </tr>\n",
       "  </tbody>\n",
       "</table>\n",
       "</div>"
      ],
      "text/plain": [
       "   Capomulin   Ceftamin  Infubinol   Ramicane\n",
       "0  23.343598  45.000000  36.321346  22.050126\n",
       "1  28.430964  45.000000  45.699331  29.128472\n",
       "2  28.484033  45.000000  46.250112  30.276232\n",
       "3  30.485985  45.000000  47.010364  30.564625\n",
       "4  31.023923  46.784535  50.005138  30.638696"
      ]
     },
     "execution_count": 30,
     "metadata": {},
     "output_type": "execute_result"
    }
   ],
   "source": [
    "tumor_data_df = pd.DataFrame(tumor_comparison, columns = [\"Capomulin\", \"Ceftamin\", \"Infubinol\", \"Ramicane\"])\n",
    "tumor_data_df.head()"
   ]
  },
  {
   "cell_type": "code",
   "execution_count": 43,
   "metadata": {},
   "outputs": [
    {
     "data": {
      "image/png": "[encoded data removed]",
      "text/plain": [
       "<Figure size 576x432 with 1 Axes>"
      ]
     },
     "metadata": {
      "needs_background": "light"
     },
     "output_type": "display_data"
    }
   ],
   "source": [
    "#Generate a box plot of the final tumor volume of each mouse across four regimens of interest\n",
    "data = tumor_data_df[\"Capomulin\"], tumor_data_df[\"Ceftamin\"], tumor_data_df[\"Infubinol\"], tumor_data_df[\"Ramicane\"]\n",
    "labels = [\"Capomulin\", \"Ceftamin\", \"Infubinol\", \"Ramicane\"]\n",
    "flierprops = dict(marker='o', markerfacecolor='red', markersize=10,\n",
    "                  linestyle='none')\n",
    "fig1, ax1 = plt.subplots(figsize=(8,6))\n",
    "ax1.set_title(\"Final Tumor Sizes by Drug Regimen\")\n",
    "ax1.set_ylabel(\"Tumor Volume (mm3)\")\n",
    "ax1.boxplot(data, labels = labels, flierprops = flierprops)\n",
    "plt.tight_layout()\n",
    "plt.show()"
   ]
  },
  {
   "cell_type": "markdown",
   "metadata": {},
   "source": [
    "## Line and Scatter Plots"
   ]
  },
  {
   "cell_type": "code",
   "execution_count": 32,
   "metadata": {},
   "outputs": [],
   "source": [
    "# Generate a line plot of tumor volume vs. time point for a mouse treated with Capomulin\n",
    "b128 = mouse_cleaned_df.loc[mouse_cleaned_df[\"mouse_id\"] == \"b128\"]\n",
    "#b128\n",
    "\n",
    "x_axis = np.arange(0, 50, 5)\n",
    "#x_axis\n",
    "\n",
    "b128_vol = list(b128[\"tumor_vol\"])\n",
    "#print(b128_vol)"
   ]
  },
  {
   "cell_type": "code",
   "execution_count": 33,
   "metadata": {},
   "outputs": [
    {
     "data": {
      "image/png": "[encoded data removed]",
      "text/plain": [
       "<Figure size 432x288 with 1 Axes>"
      ]
     },
     "metadata": {
      "needs_background": "light"
     },
     "output_type": "display_data"
    }
   ],
   "source": [
    "#draw plot\n",
    "plt.plot(x_axis, b128_vol, marker = \"o\", color=\"red\", label = \"mouse b128\")\n",
    "plt.title(\"Tumor Volume for Mouse b128 Over Time\")\n",
    "plt.xlabel(\"Timepoints\")\n",
    "plt.ylabel(\"Tumor Volume (mm3)\")\n",
    "plt.legend(loc=\"best\")\n",
    "plt.tight_layout()\n",
    "plt.show()"
   ]
  },
  {
   "cell_type": "code",
   "execution_count": 34,
   "metadata": {},
   "outputs": [
    {
     "data": {
      "image/png": "[encoded data removed]",
      "text/plain": [
       "<Figure size 432x288 with 1 Axes>"
      ]
     },
     "metadata": {
      "needs_background": "light"
     },
     "output_type": "display_data"
    }
   ],
   "source": [
    "#spot check a couple of other mice\n",
    "m601 = mouse_cleaned_df.loc[mouse_cleaned_df[\"mouse_id\"] == \"m601\"]\n",
    "x_axis = np.arange(0, 50, 5)\n",
    "m601_vol = list(m601[\"tumor_vol\"])\n",
    "\n",
    "#draw plot\n",
    "plt.plot(x_axis, m601_vol, marker = \"o\", color=\"red\", label = \"mouse m601\")\n",
    "plt.title(\"Tumor Volume for Mouse m601 Over Time\")\n",
    "plt.xlabel(\"Timepoints\")\n",
    "plt.ylabel(\"Tumor Volume (mm3)\")\n",
    "plt.legend(loc=\"best\")\n",
    "plt.tight_layout()\n",
    "plt.show()"
   ]
  },
  {
   "cell_type": "code",
   "execution_count": 35,
   "metadata": {},
   "outputs": [
    {
     "data": {
      "image/png": "[encoded data removed]",
      "text/plain": [
       "<Figure size 432x288 with 1 Axes>"
      ]
     },
     "metadata": {
      "needs_background": "light"
     },
     "output_type": "display_data"
    }
   ],
   "source": [
    "f966 = mouse_cleaned_df.loc[mouse_cleaned_df[\"mouse_id\"] == \"f966\"]\n",
    "x_axis = np.arange(0, 25, 5)\n",
    "f966_vol = list(f966[\"tumor_vol\"])\n",
    "\n",
    "#draw plot\n",
    "plt.plot(x_axis, f966_vol, marker = \"o\", color=\"red\", label = \"mouse f966\")\n",
    "plt.title(\"Tumor Volume for Mouse f966 Over Time\")\n",
    "plt.xlabel(\"Timepoints\")\n",
    "plt.ylabel(\"Tumor Volume (mm3)\")\n",
    "plt.legend(loc=\"best\")\n",
    "plt.tight_layout()\n",
    "plt.show()"
   ]
  },
  {
   "cell_type": "code",
   "execution_count": 36,
   "metadata": {},
   "outputs": [],
   "source": [
    "# Generate a scatter plot of average tumor volume vs. mouse weight for the Capomulin regimen\n",
    "cap_df = pd.DataFrame(mouse_cleaned_df.groupby([\"drug_regimen\", \"mouse_id\"]).mean().reset_index())\n",
    "cap_df = cap_df.loc[cap_df[\"drug_regimen\"] == \"Capomulin\"]\n",
    "#cap_df.head()\n",
    "\n",
    "x_axis = list(cap_df[\"weight\"])\n",
    "#x_axis\n",
    "\n",
    "y_values = list(cap_df[\"tumor_vol\"])\n",
    "#y_values"
   ]
  },
  {
   "cell_type": "code",
   "execution_count": 37,
   "metadata": {},
   "outputs": [
    {
     "data": {
      "image/png": "[encoded data removed]",
      "text/plain": [
       "<Figure size 432x288 with 1 Axes>"
      ]
     },
     "metadata": {
      "needs_background": "light"
     },
     "output_type": "display_data"
    }
   ],
   "source": [
    "#draw plot\n",
    "plt.scatter(x_axis, y_values, marker = \"o\", facecolors = \"red\", edgecolors = \"black\", s=None, alpha = 1)\n",
    "plt.xlabel(\"Mouse Weight (g)\")\n",
    "plt.ylabel(\"Tumor Volume (mm3)\")\n",
    "plt.title(\"Tumor Volume by Mouse Weight\")\n",
    "plt.tight_layout()\n",
    "plt.show()"
   ]
  },
  {
   "cell_type": "markdown",
   "metadata": {},
   "source": [
    "## Correlation and Regression"
   ]
  },
  {
   "cell_type": "code",
   "execution_count": 38,
   "metadata": {},
   "outputs": [
    {
     "name": "stdout",
     "output_type": "stream",
     "text": [
      "The correlation between both factors is 0.84\n"
     ]
    }
   ],
   "source": [
    "# Calculate the correlation coefficient and linear regression model \n",
    "# for mouse weight and average tumor volume for the Capomulin regimen\n",
    "cap_corr = st.pearsonr(cap_df[\"weight\"], cap_df[\"tumor_vol\"])\n",
    "#print(cap_corr)\n",
    "print(f\"The correlation between both factors is {round(cap_corr[0],2)}\")"
   ]
  },
  {
   "cell_type": "code",
   "execution_count": 39,
   "metadata": {},
   "outputs": [
    {
     "data": {
      "image/png": "[encoded data removed]",
      "text/plain": [
       "<Figure size 432x288 with 1 Axes>"
      ]
     },
     "metadata": {
      "needs_background": "light"
     },
     "output_type": "display_data"
    }
   ],
   "source": [
    "#compute linear regression\n",
    "x_values = cap_df[\"weight\"]\n",
    "y_values = cap_df[\"tumor_vol\"]\n",
    "(slope, intercept, rvalue, pvalue, stderr) = st.linregress(x_values, y_values)\n",
    "regress_values = x_values * slope + intercept\n",
    "line_eq = \"y=\" + str(round(slope,2)) + \"x \" + str(round(intercept,2))\n",
    "plt.scatter(x_values, y_values)\n",
    "plt.plot(x_values, regress_values, \"r-\")\n",
    "plt.annotate(line_eq, (21,37), fontsize=15, color=\"red\")\n",
    "plt.xlabel(\"Mouse Weight (g)\")\n",
    "plt.ylabel(\"Tumor Volume (mm3)\")\n",
    "plt.show()"
   ]
  },
  {
   "cell_type": "markdown",
   "metadata": {},
   "source": [
    "# Conclusions:\n",
    "Of the ten drug regimens offered for the treatment of this particular type of cancer (9 + placebo), two stand out as significantly effective: Capomulin and Ramicane. Mice on both of these regimens showed significant decrease of tumor volume over time, as compared to placebo treatment. Ramicane, with a mean final tumor size of 36.19mm^3, may be slightly more effective than Capomulin (mean 36.67 mm^3).\n",
    "\n",
    "Capomulin shows a very strong corrlation between final tumor volume and the weight of the test mice. While we would need to further analyze the data to ensure that all other factors are controlled for, we do see a suggestion that Capomulin is most effective in smaller mice. This opens interesting questions about how mouse obesity might play a role in the efficacy of drug treatment, or the aggressiveness of the cancer. \n",
    "\n",
    "This analysis begins to indicate some promising directions for the treatment of cancer, but is far from conclusive without further study. For example, we could also look at the effectiveness of particular regimens by comparing the sexes or ages of the test subjects, and it would be useful to calculate the correlation coefficient and linear regression for Ramicane, as well as the placebo, in order to visualize what a \"normal\" progression of the disease would look like."
   ]
  },
  {
   "cell_type": "code",
   "execution_count": null,
   "metadata": {},
   "outputs": [],
   "source": []
  }
 ],
 "metadata": {
  "anaconda-cloud": {},
  "kernelspec": {
   "display_name": "Python 3",
   "language": "python",
   "name": "python3"
  },
  "language_info": {
   "codemirror_mode": {
    "name": "ipython",
    "version": 3
   },
   "file_extension": ".py",
   "mimetype": "text/x-python",
   "name": "python",
   "nbconvert_exporter": "python",
   "pygments_lexer": "ipython3",
   "version": "3.6.10"
  }
 },
 "nbformat": 4,
 "nbformat_minor": 4
}
